{
 "cells": [
  {
   "cell_type": "markdown",
   "metadata": {},
   "source": [
    "## Machine learning models with variable importance"
   ]
  },
  {
   "cell_type": "code",
   "execution_count": 20,
   "metadata": {},
   "outputs": [],
   "source": [
    "import matplotlib.pyplot as plt\n",
    "import numpy as np\n",
    "import pandas as pd\n",
    "from sklearn.ensemble import AdaBoostRegressor, RandomForestRegressor, GradientBoostingRegressor"
   ]
  },
  {
   "cell_type": "markdown",
   "metadata": {},
   "source": [
    "### 1. Preprocessing\n",
    "1. Preprocess NYT data: read in, parse to most recent day, and calculate cumulative death rate and store result in column `death_rate`\n",
    "2. Preprocess PM data: remove irrelevant columns, rename columns, modify datatypes of certain columns.\n",
    "3. Zip together the NYT and PM data by the FIP code and the date. Split into training and test sets based on 85% training and 15% testing."
   ]
  },
  {
   "cell_type": "markdown",
   "metadata": {},
   "source": [
    "**Preprocess NYT data**\n",
    "\n",
    "Here we calculate the cumulative death rate and store in the column `death_rate`. We also modify the `date` column to a datetime object."
   ]
  },
  {
   "cell_type": "code",
   "execution_count": 2,
   "metadata": {},
   "outputs": [],
   "source": [
    "# Read in NYT data\n",
    "url = 'https://raw.githubusercontent.com/nytimes/covid-19-data/master/us-counties.csv'\n",
    "nyt_df = pd.read_csv(url,index_col=None,parse_dates=[0])\n",
    "\n",
    "# Calculate cumulative death rate\n",
    "nyt_df['death_rate'] = nyt_df['deaths'] / nyt_df['cases']\n",
    "\n",
    "# Convert date column to datetime object\n",
    "nyt_df['date'] = pd.to_datetime(nyt_df['date'], format='%d/%m/%Y')"
   ]
  },
  {
   "cell_type": "markdown",
   "metadata": {},
   "source": [
    "**Preprocess PM data**\n",
    "\n",
    "Here, we drop the unnecessary columns `Unnamed: 0`, `Country_Region` (US for all entries), `Last_Update` (encoded in the `date` column), the `Province_State`, `Combined_Key`, and `Admin2` columns (all of which are summarized in the `fips` column), `year.x` (2016 for all entries), `year.y` (2012 for all entries), `older_Population` (encoded in `older_pecent`), `state`, `hash`, `dateChecked`, `Abbrev`, and `Recovered` (since we only have zero values listed in the DataFrame. We're also dropping non-cumulative data like `Confirmed`, `Deaths`, `Recovered`, `Active`, and columns with all NaNs like `beds`, `pending`, `hospitalizedCurrently`, `hospitalizedCumulative`, `inIcuCurrently`, `inIcuCumulative`, `onVentilatorCurrently`, `onVentilatorCumulative`, `recovered`, `death`, `hospitalized`\n",
    "\n",
    "We also rename the `Long_` column to `Long`, `older_pecent` to `older_percent`, and `Deaths` to `county_deaths`.\n",
    "\n",
    "Finally, we modify the `date` column to change the datatype from an int to a TimeStamp object."
   ]
  },
  {
   "cell_type": "code",
   "execution_count": 3,
   "metadata": {},
   "outputs": [],
   "source": [
    "# Read in PM data\n",
    "data_big = pd.read_csv('../data/processed_data_05-03-2020.csv')"
   ]
  },
  {
   "cell_type": "code",
   "execution_count": 4,
   "metadata": {},
   "outputs": [],
   "source": [
    "# Drop relevant columns\n",
    "to_drop = ['Unnamed: 0', 'Country_Region', 'Last_Update', 'Province_State', 'Admin2', 'year.x', \n",
    "           'year.y', 'older_Population', 'state', 'hash', 'dateChecked', 'Abbrev', 'Recovered', 'Confirmed',\n",
    "           'Deaths', 'Active', 'beds', 'pending', 'hospitalizedCurrently', 'hospitalizedCumulative', \n",
    "           'inIcuCurrently', 'inIcuCumulative', 'onVentilatorCurrently', 'onVentilatorCumulative', 'recovered',\n",
    "           'death', 'hospitalized']\n",
    "data_big = data_big.drop(to_drop, axis=1)\n",
    "\n",
    "# Rename relevant columns\n",
    "to_rename = {'Long_': 'Long', 'older_pecent': 'older_percent', 'Deaths': 'county_deaths'}\n",
    "data_big = data_big.rename(columns=to_rename)\n",
    "\n",
    "# Change date column to a TimeStamp day\n",
    "data_big['date'] = pd.to_datetime(data_big['date'], format='%Y%m%d')"
   ]
  },
  {
   "cell_type": "code",
   "execution_count": 5,
   "metadata": {},
   "outputs": [
    {
     "data": {
      "text/plain": [
       "(3086, 40)"
      ]
     },
     "execution_count": 5,
     "metadata": {},
     "output_type": "execute_result"
    }
   ],
   "source": [
    "data_big.shape"
   ]
  },
  {
   "cell_type": "markdown",
   "metadata": {},
   "source": [
    "**Zip together NYT and PM data**\n",
    "\n",
    "Here we append the `cases`, `deaths`, and `death_rate` columns from the NYT dataset (encoded in `nyt_df`) to the PM data set (encoded in `data_big`) based on the FIPS and the date of measure. We store this information in `data_big` as `cum_cases`, `cum_deaths`, and `death_rate`, respectively.\n",
    "\n",
    "We also renumber the `fips` column to start at $0$ and incriment by $1$, storing the key in the dictionaries `fip2idx` and `idx2fip`. We do the same for the `date` column.\n",
    "\n",
    "Finally, we split the dataframe into train and test sets."
   ]
  },
  {
   "cell_type": "code",
   "execution_count": 6,
   "metadata": {},
   "outputs": [],
   "source": [
    "# Add cases, deaths, and death_rate columns from nyt_df to data_big\n",
    "data_big = data_big.merge(nyt_df[['fips', 'date', 'cases', 'deaths', 'death_rate']], \n",
    "                          left_on=['fips', 'date'], right_on=['fips', 'date'])\n",
    "\n",
    "# Rename relevant columns\n",
    "to_rename2 = {'cases': 'cum_cases', 'deaths': 'cum_deaths'}\n",
    "data_big = data_big.rename(columns=to_rename2)"
   ]
  },
  {
   "cell_type": "code",
   "execution_count": 7,
   "metadata": {},
   "outputs": [],
   "source": [
    "# Create hashtables for fips fip2idx and idx2fip\n",
    "fips = sorted(set(data_big.fips.values))\n",
    "fip2idx = {fips[i]: i for i in range(len(fips))}\n",
    "idx2fip = {i: fips[i] for i in range(len(fips))}\n",
    "\n",
    "# Replace fips using hashtable\n",
    "data_big['fips'] = data_big['fips'].map(fip2idx)"
   ]
  },
  {
   "cell_type": "code",
   "execution_count": 8,
   "metadata": {},
   "outputs": [],
   "source": [
    "# Drop NaN rows and create predictors matrix\n",
    "data_big = data_big.dropna()\n",
    "covid_df = data_big[['mean_pm25', 'mean_winter_temp', 'mean_summer_temp', 'Lat', 'Long',\n",
    "       'poverty', 'popdensity', 'medianhousevalue', 'pct_blk',\n",
    "       'medhouseholdincome', 'pct_owner_occ', 'hispanic', 'education',\n",
    "       'population', 'pct_asian', 'pct_native', 'pct_white', 'q_popdensity',\n",
    "       'smoke_rate', 'mean_bmi', 'Population', 'older_percent', 'population_frac_county','cum_cases',\n",
    "       'cum_deaths', 'death_rate']]"
   ]
  },
  {
   "cell_type": "code",
   "execution_count": 9,
   "metadata": {},
   "outputs": [],
   "source": [
    "# Create predictors matrix X and response matricies y_cases and y_death_rate\n",
    "X = covid_df.drop(['cum_cases', 'cum_deaths', 'death_rate'], axis=1)\n",
    "y_cases = covid_df['cum_cases']\n",
    "y_death_rate = covid_df['death_rate']"
   ]
  },
  {
   "cell_type": "markdown",
   "metadata": {},
   "source": [
    "### Create AdaBoost model and quantify variable importance"
   ]
  },
  {
   "cell_type": "code",
   "execution_count": 10,
   "metadata": {},
   "outputs": [
    {
     "data": {
      "text/plain": [
       "0.09620992109063708"
      ]
     },
     "execution_count": 10,
     "metadata": {},
     "output_type": "execute_result"
    }
   ],
   "source": [
    "# Instantiate, fit, report score\n",
    "ab_regr_death_rate = AdaBoostRegressor(n_estimators=600)\n",
    "ab_regr_death_rate.fit(X, y_death_rate)\n",
    "ab_regr_death_rate.score(X, y_death_rate)"
   ]
  },
  {
   "cell_type": "code",
   "execution_count": 11,
   "metadata": {},
   "outputs": [],
   "source": [
    "# Determine variable importance\n",
    "feature_impts = pd.DataFrame()\n",
    "feature_impts['feature'] = X.columns\n",
    "feature_impts['ab_death_rate'] = ab_regr_death_rate.feature_importances_"
   ]
  },
  {
   "cell_type": "code",
   "execution_count": 12,
   "metadata": {},
   "outputs": [
    {
     "data": {
      "text/html": [
       "<div>\n",
       "<style scoped>\n",
       "    .dataframe tbody tr th:only-of-type {\n",
       "        vertical-align: middle;\n",
       "    }\n",
       "\n",
       "    .dataframe tbody tr th {\n",
       "        vertical-align: top;\n",
       "    }\n",
       "\n",
       "    .dataframe thead th {\n",
       "        text-align: right;\n",
       "    }\n",
       "</style>\n",
       "<table border=\"1\" class=\"dataframe\">\n",
       "  <thead>\n",
       "    <tr style=\"text-align: right;\">\n",
       "      <th></th>\n",
       "      <th>feature</th>\n",
       "      <th>ab_death_rate</th>\n",
       "    </tr>\n",
       "  </thead>\n",
       "  <tbody>\n",
       "    <tr>\n",
       "      <th>0</th>\n",
       "      <td>mean_pm25</td>\n",
       "      <td>0.005181</td>\n",
       "    </tr>\n",
       "    <tr>\n",
       "      <th>1</th>\n",
       "      <td>mean_winter_temp</td>\n",
       "      <td>0.054092</td>\n",
       "    </tr>\n",
       "    <tr>\n",
       "      <th>2</th>\n",
       "      <td>mean_summer_temp</td>\n",
       "      <td>0.083314</td>\n",
       "    </tr>\n",
       "    <tr>\n",
       "      <th>3</th>\n",
       "      <td>Lat</td>\n",
       "      <td>0.061560</td>\n",
       "    </tr>\n",
       "    <tr>\n",
       "      <th>4</th>\n",
       "      <td>Long</td>\n",
       "      <td>0.238129</td>\n",
       "    </tr>\n",
       "    <tr>\n",
       "      <th>5</th>\n",
       "      <td>poverty</td>\n",
       "      <td>0.015789</td>\n",
       "    </tr>\n",
       "    <tr>\n",
       "      <th>6</th>\n",
       "      <td>popdensity</td>\n",
       "      <td>0.019381</td>\n",
       "    </tr>\n",
       "    <tr>\n",
       "      <th>7</th>\n",
       "      <td>medianhousevalue</td>\n",
       "      <td>0.006310</td>\n",
       "    </tr>\n",
       "    <tr>\n",
       "      <th>8</th>\n",
       "      <td>pct_blk</td>\n",
       "      <td>0.022842</td>\n",
       "    </tr>\n",
       "    <tr>\n",
       "      <th>9</th>\n",
       "      <td>medhouseholdincome</td>\n",
       "      <td>0.039293</td>\n",
       "    </tr>\n",
       "    <tr>\n",
       "      <th>10</th>\n",
       "      <td>pct_owner_occ</td>\n",
       "      <td>0.000000</td>\n",
       "    </tr>\n",
       "    <tr>\n",
       "      <th>11</th>\n",
       "      <td>hispanic</td>\n",
       "      <td>0.244092</td>\n",
       "    </tr>\n",
       "    <tr>\n",
       "      <th>12</th>\n",
       "      <td>education</td>\n",
       "      <td>0.050019</td>\n",
       "    </tr>\n",
       "    <tr>\n",
       "      <th>13</th>\n",
       "      <td>population</td>\n",
       "      <td>0.001032</td>\n",
       "    </tr>\n",
       "    <tr>\n",
       "      <th>14</th>\n",
       "      <td>pct_asian</td>\n",
       "      <td>0.004402</td>\n",
       "    </tr>\n",
       "    <tr>\n",
       "      <th>15</th>\n",
       "      <td>pct_native</td>\n",
       "      <td>0.078211</td>\n",
       "    </tr>\n",
       "    <tr>\n",
       "      <th>16</th>\n",
       "      <td>pct_white</td>\n",
       "      <td>0.010825</td>\n",
       "    </tr>\n",
       "    <tr>\n",
       "      <th>17</th>\n",
       "      <td>q_popdensity</td>\n",
       "      <td>0.000000</td>\n",
       "    </tr>\n",
       "    <tr>\n",
       "      <th>18</th>\n",
       "      <td>smoke_rate</td>\n",
       "      <td>0.030965</td>\n",
       "    </tr>\n",
       "    <tr>\n",
       "      <th>19</th>\n",
       "      <td>mean_bmi</td>\n",
       "      <td>0.001612</td>\n",
       "    </tr>\n",
       "    <tr>\n",
       "      <th>20</th>\n",
       "      <td>Population</td>\n",
       "      <td>0.009580</td>\n",
       "    </tr>\n",
       "    <tr>\n",
       "      <th>21</th>\n",
       "      <td>older_percent</td>\n",
       "      <td>0.010672</td>\n",
       "    </tr>\n",
       "    <tr>\n",
       "      <th>22</th>\n",
       "      <td>population_frac_county</td>\n",
       "      <td>0.012699</td>\n",
       "    </tr>\n",
       "  </tbody>\n",
       "</table>\n",
       "</div>"
      ],
      "text/plain": [
       "                   feature  ab_death_rate\n",
       "0                mean_pm25       0.005181\n",
       "1         mean_winter_temp       0.054092\n",
       "2         mean_summer_temp       0.083314\n",
       "3                      Lat       0.061560\n",
       "4                     Long       0.238129\n",
       "5                  poverty       0.015789\n",
       "6               popdensity       0.019381\n",
       "7         medianhousevalue       0.006310\n",
       "8                  pct_blk       0.022842\n",
       "9       medhouseholdincome       0.039293\n",
       "10           pct_owner_occ       0.000000\n",
       "11                hispanic       0.244092\n",
       "12               education       0.050019\n",
       "13              population       0.001032\n",
       "14               pct_asian       0.004402\n",
       "15              pct_native       0.078211\n",
       "16               pct_white       0.010825\n",
       "17            q_popdensity       0.000000\n",
       "18              smoke_rate       0.030965\n",
       "19                mean_bmi       0.001612\n",
       "20              Population       0.009580\n",
       "21           older_percent       0.010672\n",
       "22  population_frac_county       0.012699"
      ]
     },
     "execution_count": 12,
     "metadata": {},
     "output_type": "execute_result"
    }
   ],
   "source": [
    "feature_impts"
   ]
  },
  {
   "cell_type": "markdown",
   "metadata": {},
   "source": [
    "### Create random forest model and quantify variable importance"
   ]
  },
  {
   "cell_type": "code",
   "execution_count": 13,
   "metadata": {},
   "outputs": [
    {
     "name": "stderr",
     "output_type": "stream",
     "text": [
      "/Users/Josh/anaconda3/lib/python3.7/site-packages/sklearn/ensemble/forest.py:245: FutureWarning: The default value of n_estimators will change from 10 in version 0.20 to 100 in 0.22.\n",
      "  \"10 in version 0.20 to 100 in 0.22.\", FutureWarning)\n"
     ]
    },
    {
     "data": {
      "text/plain": [
       "0.7844653114277628"
      ]
     },
     "execution_count": 13,
     "metadata": {},
     "output_type": "execute_result"
    }
   ],
   "source": [
    "# Instantiate, fit, report score\n",
    "rf_regr_death_rate = RandomForestRegressor()\n",
    "rf_regr_death_rate.fit(X, y_death_rate)\n",
    "rf_regr_death_rate.score(X, y_death_rate)"
   ]
  },
  {
   "cell_type": "code",
   "execution_count": 14,
   "metadata": {},
   "outputs": [
    {
     "data": {
      "text/html": [
       "<div>\n",
       "<style scoped>\n",
       "    .dataframe tbody tr th:only-of-type {\n",
       "        vertical-align: middle;\n",
       "    }\n",
       "\n",
       "    .dataframe tbody tr th {\n",
       "        vertical-align: top;\n",
       "    }\n",
       "\n",
       "    .dataframe thead th {\n",
       "        text-align: right;\n",
       "    }\n",
       "</style>\n",
       "<table border=\"1\" class=\"dataframe\">\n",
       "  <thead>\n",
       "    <tr style=\"text-align: right;\">\n",
       "      <th></th>\n",
       "      <th>feature</th>\n",
       "      <th>ab_death_rate</th>\n",
       "      <th>rf_death_rate</th>\n",
       "    </tr>\n",
       "  </thead>\n",
       "  <tbody>\n",
       "    <tr>\n",
       "      <th>0</th>\n",
       "      <td>mean_pm25</td>\n",
       "      <td>0.005181</td>\n",
       "      <td>0.046079</td>\n",
       "    </tr>\n",
       "    <tr>\n",
       "      <th>1</th>\n",
       "      <td>mean_winter_temp</td>\n",
       "      <td>0.054092</td>\n",
       "      <td>0.037403</td>\n",
       "    </tr>\n",
       "    <tr>\n",
       "      <th>2</th>\n",
       "      <td>mean_summer_temp</td>\n",
       "      <td>0.083314</td>\n",
       "      <td>0.041307</td>\n",
       "    </tr>\n",
       "    <tr>\n",
       "      <th>3</th>\n",
       "      <td>Lat</td>\n",
       "      <td>0.061560</td>\n",
       "      <td>0.035037</td>\n",
       "    </tr>\n",
       "    <tr>\n",
       "      <th>4</th>\n",
       "      <td>Long</td>\n",
       "      <td>0.238129</td>\n",
       "      <td>0.053500</td>\n",
       "    </tr>\n",
       "    <tr>\n",
       "      <th>5</th>\n",
       "      <td>poverty</td>\n",
       "      <td>0.015789</td>\n",
       "      <td>0.034518</td>\n",
       "    </tr>\n",
       "    <tr>\n",
       "      <th>6</th>\n",
       "      <td>popdensity</td>\n",
       "      <td>0.019381</td>\n",
       "      <td>0.045038</td>\n",
       "    </tr>\n",
       "    <tr>\n",
       "      <th>7</th>\n",
       "      <td>medianhousevalue</td>\n",
       "      <td>0.006310</td>\n",
       "      <td>0.027782</td>\n",
       "    </tr>\n",
       "    <tr>\n",
       "      <th>8</th>\n",
       "      <td>pct_blk</td>\n",
       "      <td>0.022842</td>\n",
       "      <td>0.034906</td>\n",
       "    </tr>\n",
       "    <tr>\n",
       "      <th>9</th>\n",
       "      <td>medhouseholdincome</td>\n",
       "      <td>0.039293</td>\n",
       "      <td>0.026640</td>\n",
       "    </tr>\n",
       "    <tr>\n",
       "      <th>10</th>\n",
       "      <td>pct_owner_occ</td>\n",
       "      <td>0.000000</td>\n",
       "      <td>0.038670</td>\n",
       "    </tr>\n",
       "    <tr>\n",
       "      <th>11</th>\n",
       "      <td>hispanic</td>\n",
       "      <td>0.244092</td>\n",
       "      <td>0.131435</td>\n",
       "    </tr>\n",
       "    <tr>\n",
       "      <th>12</th>\n",
       "      <td>education</td>\n",
       "      <td>0.050019</td>\n",
       "      <td>0.029301</td>\n",
       "    </tr>\n",
       "    <tr>\n",
       "      <th>13</th>\n",
       "      <td>population</td>\n",
       "      <td>0.001032</td>\n",
       "      <td>0.057539</td>\n",
       "    </tr>\n",
       "    <tr>\n",
       "      <th>14</th>\n",
       "      <td>pct_asian</td>\n",
       "      <td>0.004402</td>\n",
       "      <td>0.044591</td>\n",
       "    </tr>\n",
       "    <tr>\n",
       "      <th>15</th>\n",
       "      <td>pct_native</td>\n",
       "      <td>0.078211</td>\n",
       "      <td>0.066269</td>\n",
       "    </tr>\n",
       "    <tr>\n",
       "      <th>16</th>\n",
       "      <td>pct_white</td>\n",
       "      <td>0.010825</td>\n",
       "      <td>0.066878</td>\n",
       "    </tr>\n",
       "    <tr>\n",
       "      <th>17</th>\n",
       "      <td>q_popdensity</td>\n",
       "      <td>0.000000</td>\n",
       "      <td>0.009592</td>\n",
       "    </tr>\n",
       "    <tr>\n",
       "      <th>18</th>\n",
       "      <td>smoke_rate</td>\n",
       "      <td>0.030965</td>\n",
       "      <td>0.029456</td>\n",
       "    </tr>\n",
       "    <tr>\n",
       "      <th>19</th>\n",
       "      <td>mean_bmi</td>\n",
       "      <td>0.001612</td>\n",
       "      <td>0.028046</td>\n",
       "    </tr>\n",
       "    <tr>\n",
       "      <th>20</th>\n",
       "      <td>Population</td>\n",
       "      <td>0.009580</td>\n",
       "      <td>0.045751</td>\n",
       "    </tr>\n",
       "    <tr>\n",
       "      <th>21</th>\n",
       "      <td>older_percent</td>\n",
       "      <td>0.010672</td>\n",
       "      <td>0.028927</td>\n",
       "    </tr>\n",
       "    <tr>\n",
       "      <th>22</th>\n",
       "      <td>population_frac_county</td>\n",
       "      <td>0.012699</td>\n",
       "      <td>0.041334</td>\n",
       "    </tr>\n",
       "  </tbody>\n",
       "</table>\n",
       "</div>"
      ],
      "text/plain": [
       "                   feature  ab_death_rate  rf_death_rate\n",
       "0                mean_pm25       0.005181       0.046079\n",
       "1         mean_winter_temp       0.054092       0.037403\n",
       "2         mean_summer_temp       0.083314       0.041307\n",
       "3                      Lat       0.061560       0.035037\n",
       "4                     Long       0.238129       0.053500\n",
       "5                  poverty       0.015789       0.034518\n",
       "6               popdensity       0.019381       0.045038\n",
       "7         medianhousevalue       0.006310       0.027782\n",
       "8                  pct_blk       0.022842       0.034906\n",
       "9       medhouseholdincome       0.039293       0.026640\n",
       "10           pct_owner_occ       0.000000       0.038670\n",
       "11                hispanic       0.244092       0.131435\n",
       "12               education       0.050019       0.029301\n",
       "13              population       0.001032       0.057539\n",
       "14               pct_asian       0.004402       0.044591\n",
       "15              pct_native       0.078211       0.066269\n",
       "16               pct_white       0.010825       0.066878\n",
       "17            q_popdensity       0.000000       0.009592\n",
       "18              smoke_rate       0.030965       0.029456\n",
       "19                mean_bmi       0.001612       0.028046\n",
       "20              Population       0.009580       0.045751\n",
       "21           older_percent       0.010672       0.028927\n",
       "22  population_frac_county       0.012699       0.041334"
      ]
     },
     "execution_count": 14,
     "metadata": {},
     "output_type": "execute_result"
    }
   ],
   "source": [
    "# Determine variable importance\n",
    "feature_impts['rf_death_rate'] = rf_regr_death_rate.feature_importances_\n",
    "feature_impts"
   ]
  },
  {
   "cell_type": "markdown",
   "metadata": {},
   "source": [
    "### Create gradient boosting model and quantify variable importance"
   ]
  },
  {
   "cell_type": "code",
   "execution_count": 15,
   "metadata": {},
   "outputs": [
    {
     "data": {
      "text/plain": [
       "0.5122396277760257"
      ]
     },
     "execution_count": 15,
     "metadata": {},
     "output_type": "execute_result"
    }
   ],
   "source": [
    "# Instantiate, fit, report score\n",
    "gb_regr_death_rate = GradientBoostingRegressor()\n",
    "gb_regr_death_rate.fit(X, y_death_rate)\n",
    "gb_regr_death_rate.score(X, y_death_rate)"
   ]
  },
  {
   "cell_type": "code",
   "execution_count": 16,
   "metadata": {},
   "outputs": [
    {
     "data": {
      "text/html": [
       "<div>\n",
       "<style scoped>\n",
       "    .dataframe tbody tr th:only-of-type {\n",
       "        vertical-align: middle;\n",
       "    }\n",
       "\n",
       "    .dataframe tbody tr th {\n",
       "        vertical-align: top;\n",
       "    }\n",
       "\n",
       "    .dataframe thead th {\n",
       "        text-align: right;\n",
       "    }\n",
       "</style>\n",
       "<table border=\"1\" class=\"dataframe\">\n",
       "  <thead>\n",
       "    <tr style=\"text-align: right;\">\n",
       "      <th></th>\n",
       "      <th>feature</th>\n",
       "      <th>ab_death_rate</th>\n",
       "      <th>rf_death_rate</th>\n",
       "      <th>gb_death_rate</th>\n",
       "    </tr>\n",
       "  </thead>\n",
       "  <tbody>\n",
       "    <tr>\n",
       "      <th>0</th>\n",
       "      <td>mean_pm25</td>\n",
       "      <td>0.005181</td>\n",
       "      <td>0.046079</td>\n",
       "      <td>0.033168</td>\n",
       "    </tr>\n",
       "    <tr>\n",
       "      <th>1</th>\n",
       "      <td>mean_winter_temp</td>\n",
       "      <td>0.054092</td>\n",
       "      <td>0.037403</td>\n",
       "      <td>0.062596</td>\n",
       "    </tr>\n",
       "    <tr>\n",
       "      <th>2</th>\n",
       "      <td>mean_summer_temp</td>\n",
       "      <td>0.083314</td>\n",
       "      <td>0.041307</td>\n",
       "      <td>0.049720</td>\n",
       "    </tr>\n",
       "    <tr>\n",
       "      <th>3</th>\n",
       "      <td>Lat</td>\n",
       "      <td>0.061560</td>\n",
       "      <td>0.035037</td>\n",
       "      <td>0.016768</td>\n",
       "    </tr>\n",
       "    <tr>\n",
       "      <th>4</th>\n",
       "      <td>Long</td>\n",
       "      <td>0.238129</td>\n",
       "      <td>0.053500</td>\n",
       "      <td>0.118804</td>\n",
       "    </tr>\n",
       "    <tr>\n",
       "      <th>5</th>\n",
       "      <td>poverty</td>\n",
       "      <td>0.015789</td>\n",
       "      <td>0.034518</td>\n",
       "      <td>0.023142</td>\n",
       "    </tr>\n",
       "    <tr>\n",
       "      <th>6</th>\n",
       "      <td>popdensity</td>\n",
       "      <td>0.019381</td>\n",
       "      <td>0.045038</td>\n",
       "      <td>0.015908</td>\n",
       "    </tr>\n",
       "    <tr>\n",
       "      <th>7</th>\n",
       "      <td>medianhousevalue</td>\n",
       "      <td>0.006310</td>\n",
       "      <td>0.027782</td>\n",
       "      <td>0.012657</td>\n",
       "    </tr>\n",
       "    <tr>\n",
       "      <th>8</th>\n",
       "      <td>pct_blk</td>\n",
       "      <td>0.022842</td>\n",
       "      <td>0.034906</td>\n",
       "      <td>0.024475</td>\n",
       "    </tr>\n",
       "    <tr>\n",
       "      <th>9</th>\n",
       "      <td>medhouseholdincome</td>\n",
       "      <td>0.039293</td>\n",
       "      <td>0.026640</td>\n",
       "      <td>0.009530</td>\n",
       "    </tr>\n",
       "    <tr>\n",
       "      <th>10</th>\n",
       "      <td>pct_owner_occ</td>\n",
       "      <td>0.000000</td>\n",
       "      <td>0.038670</td>\n",
       "      <td>0.020553</td>\n",
       "    </tr>\n",
       "    <tr>\n",
       "      <th>11</th>\n",
       "      <td>hispanic</td>\n",
       "      <td>0.244092</td>\n",
       "      <td>0.131435</td>\n",
       "      <td>0.095028</td>\n",
       "    </tr>\n",
       "    <tr>\n",
       "      <th>12</th>\n",
       "      <td>education</td>\n",
       "      <td>0.050019</td>\n",
       "      <td>0.029301</td>\n",
       "      <td>0.096857</td>\n",
       "    </tr>\n",
       "    <tr>\n",
       "      <th>13</th>\n",
       "      <td>population</td>\n",
       "      <td>0.001032</td>\n",
       "      <td>0.057539</td>\n",
       "      <td>0.044837</td>\n",
       "    </tr>\n",
       "    <tr>\n",
       "      <th>14</th>\n",
       "      <td>pct_asian</td>\n",
       "      <td>0.004402</td>\n",
       "      <td>0.044591</td>\n",
       "      <td>0.032346</td>\n",
       "    </tr>\n",
       "    <tr>\n",
       "      <th>15</th>\n",
       "      <td>pct_native</td>\n",
       "      <td>0.078211</td>\n",
       "      <td>0.066269</td>\n",
       "      <td>0.138578</td>\n",
       "    </tr>\n",
       "    <tr>\n",
       "      <th>16</th>\n",
       "      <td>pct_white</td>\n",
       "      <td>0.010825</td>\n",
       "      <td>0.066878</td>\n",
       "      <td>0.028045</td>\n",
       "    </tr>\n",
       "    <tr>\n",
       "      <th>17</th>\n",
       "      <td>q_popdensity</td>\n",
       "      <td>0.000000</td>\n",
       "      <td>0.009592</td>\n",
       "      <td>0.002806</td>\n",
       "    </tr>\n",
       "    <tr>\n",
       "      <th>18</th>\n",
       "      <td>smoke_rate</td>\n",
       "      <td>0.030965</td>\n",
       "      <td>0.029456</td>\n",
       "      <td>0.014866</td>\n",
       "    </tr>\n",
       "    <tr>\n",
       "      <th>19</th>\n",
       "      <td>mean_bmi</td>\n",
       "      <td>0.001612</td>\n",
       "      <td>0.028046</td>\n",
       "      <td>0.010021</td>\n",
       "    </tr>\n",
       "    <tr>\n",
       "      <th>20</th>\n",
       "      <td>Population</td>\n",
       "      <td>0.009580</td>\n",
       "      <td>0.045751</td>\n",
       "      <td>0.019609</td>\n",
       "    </tr>\n",
       "    <tr>\n",
       "      <th>21</th>\n",
       "      <td>older_percent</td>\n",
       "      <td>0.010672</td>\n",
       "      <td>0.028927</td>\n",
       "      <td>0.080689</td>\n",
       "    </tr>\n",
       "    <tr>\n",
       "      <th>22</th>\n",
       "      <td>population_frac_county</td>\n",
       "      <td>0.012699</td>\n",
       "      <td>0.041334</td>\n",
       "      <td>0.048998</td>\n",
       "    </tr>\n",
       "  </tbody>\n",
       "</table>\n",
       "</div>"
      ],
      "text/plain": [
       "                   feature  ab_death_rate  rf_death_rate  gb_death_rate\n",
       "0                mean_pm25       0.005181       0.046079       0.033168\n",
       "1         mean_winter_temp       0.054092       0.037403       0.062596\n",
       "2         mean_summer_temp       0.083314       0.041307       0.049720\n",
       "3                      Lat       0.061560       0.035037       0.016768\n",
       "4                     Long       0.238129       0.053500       0.118804\n",
       "5                  poverty       0.015789       0.034518       0.023142\n",
       "6               popdensity       0.019381       0.045038       0.015908\n",
       "7         medianhousevalue       0.006310       0.027782       0.012657\n",
       "8                  pct_blk       0.022842       0.034906       0.024475\n",
       "9       medhouseholdincome       0.039293       0.026640       0.009530\n",
       "10           pct_owner_occ       0.000000       0.038670       0.020553\n",
       "11                hispanic       0.244092       0.131435       0.095028\n",
       "12               education       0.050019       0.029301       0.096857\n",
       "13              population       0.001032       0.057539       0.044837\n",
       "14               pct_asian       0.004402       0.044591       0.032346\n",
       "15              pct_native       0.078211       0.066269       0.138578\n",
       "16               pct_white       0.010825       0.066878       0.028045\n",
       "17            q_popdensity       0.000000       0.009592       0.002806\n",
       "18              smoke_rate       0.030965       0.029456       0.014866\n",
       "19                mean_bmi       0.001612       0.028046       0.010021\n",
       "20              Population       0.009580       0.045751       0.019609\n",
       "21           older_percent       0.010672       0.028927       0.080689\n",
       "22  population_frac_county       0.012699       0.041334       0.048998"
      ]
     },
     "execution_count": 16,
     "metadata": {},
     "output_type": "execute_result"
    }
   ],
   "source": [
    "# Determine variable importance\n",
    "feature_impts['gb_death_rate'] = gb_regr_death_rate.feature_importances_\n",
    "feature_impts"
   ]
  },
  {
   "cell_type": "markdown",
   "metadata": {},
   "source": [
    "### Visualize results"
   ]
  },
  {
   "cell_type": "code",
   "execution_count": 35,
   "metadata": {},
   "outputs": [
    {
     "data": {
      "image/png": "[encoded data removed]",
      "text/plain": [
       "<Figure size 1080x360 with 3 Axes>"
      ]
     },
     "metadata": {
      "needs_background": "light"
     },
     "output_type": "display_data"
    }
   ],
   "source": [
    "# Create variable importance plot for death rate\n",
    "fig, axs = plt.subplots(1,3, figsize=(15,5), sharey=True)\n",
    "\n",
    "models = ['AdaBoost', 'GradientBoost', 'RandomForest']\n",
    "model_cols = ['ab_death_rate', 'gb_death_rate', 'rf_death_rate']\n",
    "r2_scores = [ab_regr_death_rate.score(X, y_death_rate), gb_regr_death_rate.score(X, y_death_rate), rf_regr_death_rate.score(X, y_death_rate)]\n",
    "\n",
    "axs[0].invert_yaxis()  # labels read top-to-bottom\n",
    "\n",
    "for i in range(3):\n",
    "    y_pos = np.arange(len(feature_impts.feature))\n",
    "    axs[i].barh(y_pos, feature_impts[model_cols[i]])\n",
    "    axs[i].set_yticks(y_pos)\n",
    "    axs[i].set_yticklabels(feature_impts.feature)\n",
    "    axs[i].set_xlabel('Variable importance')\n",
    "    axs[i].set_title(models[i] + ', $R^2 = $%.3f' % r2_scores[i])"
   ]
  },
  {
   "cell_type": "markdown",
   "metadata": {},
   "source": [
    "A kind of interesting conclusion is that better performing models place more variable importance on mean $PM_{2.5}$?"
   ]
  },
  {
   "cell_type": "markdown",
   "metadata": {},
   "source": [
    "### Repeating analysis but using PM2.5 as outcome"
   ]
  },
  {
   "cell_type": "code",
   "execution_count": 36,
   "metadata": {},
   "outputs": [],
   "source": [
    "# Separate X into y_pm and X_pm\n",
    "X_pm = X.drop(['mean_pm25'], axis=1)\n",
    "y_pm = X['mean_pm25']"
   ]
  },
  {
   "cell_type": "code",
   "execution_count": 40,
   "metadata": {},
   "outputs": [
    {
     "data": {
      "text/plain": [
       "0.8248722224571198"
      ]
     },
     "execution_count": 40,
     "metadata": {},
     "output_type": "execute_result"
    }
   ],
   "source": [
    "# Create AdaBoost model and report score\n",
    "# Instantiate, fit, report score\n",
    "ab_regr_pm = AdaBoostRegressor(n_estimators=600)\n",
    "ab_regr_pm.fit(X_pm, y_pm)\n",
    "ab_pm_score = ab_regr_pm.score(X_pm, y_pm)\n",
    "ab_pm_score"
   ]
  },
  {
   "cell_type": "code",
   "execution_count": 41,
   "metadata": {},
   "outputs": [
    {
     "data": {
      "text/plain": [
       "0.9440504813594655"
      ]
     },
     "execution_count": 41,
     "metadata": {},
     "output_type": "execute_result"
    }
   ],
   "source": [
    "# Create GradientBoost model and report score\n",
    "# Instantiate, fit, report score\n",
    "gb_regr_pm = GradientBoostingRegressor()\n",
    "gb_regr_pm.fit(X_pm, y_pm)\n",
    "gb_pm_score = gb_regr_pm.score(X_pm, y_pm)\n",
    "gb_pm_score"
   ]
  },
  {
   "cell_type": "code",
   "execution_count": 42,
   "metadata": {},
   "outputs": [
    {
     "name": "stderr",
     "output_type": "stream",
     "text": [
      "/Users/Josh/anaconda3/lib/python3.7/site-packages/sklearn/ensemble/forest.py:245: FutureWarning: The default value of n_estimators will change from 10 in version 0.20 to 100 in 0.22.\n",
      "  \"10 in version 0.20 to 100 in 0.22.\", FutureWarning)\n"
     ]
    },
    {
     "data": {
      "text/plain": [
       "0.980365998508112"
      ]
     },
     "execution_count": 42,
     "metadata": {},
     "output_type": "execute_result"
    }
   ],
   "source": [
    "# Create RandomForest model and report score\n",
    "# Instantiate, fit, report score\n",
    "rf_regr_pm = RandomForestRegressor()\n",
    "rf_regr_pm.fit(X_pm, y_pm)\n",
    "rf_pm_score = rf_regr_pm.score(X_pm, y_pm)\n",
    "rf_pm_score"
   ]
  },
  {
   "cell_type": "code",
   "execution_count": 43,
   "metadata": {},
   "outputs": [],
   "source": [
    "# Add feature importances to feature_impts_pm\n",
    "feature_impts_pm = pd.DataFrame()\n",
    "feature_impts_pm['feature'] = X_pm.columns\n",
    "feature_impts_pm['ab_pm'] = ab_regr_pm.feature_importances_\n",
    "feature_impts_pm['gb_pm'] = gb_regr_pm.feature_importances_\n",
    "feature_impts_pm['rf_pm'] = rf_regr_pm.feature_importances_"
   ]
  },
  {
   "cell_type": "code",
   "execution_count": 45,
   "metadata": {},
   "outputs": [
    {
     "data": {
      "image/png": "[encoded data removed]",
      "text/plain": [
       "<Figure size 1080x360 with 3 Axes>"
      ]
     },
     "metadata": {
      "needs_background": "light"
     },
     "output_type": "display_data"
    }
   ],
   "source": [
    "# Plot variable importance plots\n",
    "fig, axs = plt.subplots(1,3, figsize=(15,5), sharey=True)\n",
    "model_cols2 = ['ab_pm', 'gb_pm', 'rf_pm']\n",
    "r2_scores_pm = [ab_pm_score, gb_pm_score, rf_pm_score]\n",
    "\n",
    "axs[0].invert_yaxis()  # labels read top-to-bottom\n",
    "\n",
    "for i in range(3):\n",
    "    y_pos = np.arange(len(feature_impts_pm.feature))\n",
    "    axs[i].barh(y_pos, feature_impts_pm[model_cols2[i]])\n",
    "    axs[i].set_yticks(y_pos)\n",
    "    axs[i].set_yticklabels(feature_impts_pm.feature)\n",
    "    axs[i].set_xlabel('Variable importance')\n",
    "    axs[i].set_title(models[i] + ', $R^2 = $%.3f' % r2_scores_pm[i])"
   ]
  },
  {
   "cell_type": "code",
   "execution_count": 49,
   "metadata": {},
   "outputs": [
    {
     "data": {
      "image/png": "[encoded data removed]",
      "text/plain": [
       "<Figure size 1080x792 with 6 Axes>"
      ]
     },
     "metadata": {
      "needs_background": "light"
     },
     "output_type": "display_data"
    }
   ],
   "source": [
    "# Superimpose plots and save figure\n",
    "# Create variable importance plot for death rate\n",
    "fig, axs = plt.subplots(2,3, figsize=(15,11), sharey=True)\n",
    "\n",
    "axs[0][0].invert_yaxis()  # labels read top-to-bottom\n",
    "\n",
    "for i in range(3):\n",
    "    y_pos = np.arange(len(feature_impts.feature))\n",
    "    axs[0][i].barh(y_pos, feature_impts[model_cols[i]])\n",
    "    axs[0][i].set_yticks(y_pos)\n",
    "    axs[0][i].set_yticklabels(feature_impts.feature)\n",
    "    axs[0][i].set_xlabel('Variable importance')\n",
    "    axs[0][i].set_title(models[i] + ', DR as outcome, $R^2 = $%.3f' % r2_scores[i])\n",
    "    \n",
    "for i in range(3):\n",
    "    y_pos = np.arange(len(feature_impts_pm.feature))\n",
    "    axs[1][i].barh(y_pos, feature_impts_pm[model_cols2[i]])\n",
    "    axs[1][i].set_yticks(y_pos)\n",
    "    axs[1][i].set_yticklabels(feature_impts_pm.feature)\n",
    "    axs[1][i].set_xlabel('Variable importance')\n",
    "    axs[1][i].set_title(models[i] + ', PM$_{2.5}$ as outcome, $R^2 = $%.3f' % r2_scores_pm[i])"
   ]
  },
  {
   "cell_type": "code",
   "execution_count": null,
   "metadata": {},
   "outputs": [],
   "source": []
  }
 ],
 "metadata": {
  "kernelspec": {
   "display_name": "Python 3",
   "language": "python",
   "name": "python3"
  },
  "language_info": {
   "codemirror_mode": {
    "name": "ipython",
    "version": 3
   },
   "file_extension": ".py",
   "mimetype": "text/x-python",
   "name": "python",
   "nbconvert_exporter": "python",
   "pygments_lexer": "ipython3",
   "version": "3.7.3"
  }
 },
 "nbformat": 4,
 "nbformat_minor": 2
}
